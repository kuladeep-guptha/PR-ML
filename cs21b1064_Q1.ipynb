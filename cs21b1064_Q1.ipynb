{
 "cells": [
  {
   "cell_type": "code",
   "execution_count": 3,
   "id": "5480ba60",
   "metadata": {},
   "outputs": [],
   "source": [
    "#USING ONLY TWO FEATURES \n",
    "import pandas as pd\n",
    "import numpy as np\n",
    "import matplotlib.pyplot as plt\n",
    "from collections import Counter"
   ]
  },
  {
   "cell_type": "code",
   "execution_count": 4,
   "id": "e8794be5",
   "metadata": {},
   "outputs": [],
   "source": [
    "import seaborn as sns"
   ]
  },
  {
   "cell_type": "code",
   "execution_count": 5,
   "id": "be228a2e",
   "metadata": {},
   "outputs": [],
   "source": [
    "data=pd.read_csv(\"iris.csv\")\n",
    "x=data.iloc[:,0:3].values\n",
    "y=data.iloc[:,-1].values"
   ]
  },
  {
   "cell_type": "code",
   "execution_count": 6,
   "id": "2e5188dc",
   "metadata": {},
   "outputs": [],
   "source": [
    "data=data[[\"SepalLengthCm\",\"SepalWidthCm\",\"Species\"]]"
   ]
  },
  {
   "cell_type": "code",
   "execution_count": 7,
   "id": "58876743",
   "metadata": {},
   "outputs": [],
   "source": [
    "def split(df):\n",
    "    test_data=pd.DataFrame()\n",
    "    d1=df[df['Species']==\"Iris-setosa\"][0:3]\n",
    "    d2=df[df['Species']==\"Iris-versicolor\"][0:3]\n",
    "    d3=df[df['Species']==\"Iris-virginica\"][0:3]\n",
    "    test_data=pd.concat([d1,d2,d3])\n",
    "    training_data=df.loc[list(set(df.index)-set(test_data.index))]\n",
    "    return [test_data,training_data]\n",
    "    \n",
    "   \n",
    "    \n"
   ]
  },
  {
   "cell_type": "code",
   "execution_count": 8,
   "id": "bedee2a7",
   "metadata": {},
   "outputs": [
    {
     "name": "stdout",
     "output_type": "stream",
     "text": [
      "     SepalLengthCm  SepalWidthCm          Species\n",
      "0              5.1           3.5      Iris-setosa\n",
      "1              4.9           3.0      Iris-setosa\n",
      "2              4.7           3.2      Iris-setosa\n",
      "50             7.0           3.2  Iris-versicolor\n",
      "51             6.4           3.2  Iris-versicolor\n",
      "52             6.9           3.1  Iris-versicolor\n",
      "100            6.3           3.3   Iris-virginica\n",
      "101            5.8           2.7   Iris-virginica\n",
      "102            7.1           3.0   Iris-virginica\n",
      "     SepalLengthCm  SepalWidthCm         Species\n",
      "3              4.6           3.1     Iris-setosa\n",
      "4              5.0           3.6     Iris-setosa\n",
      "5              5.4           3.9     Iris-setosa\n",
      "6              4.6           3.4     Iris-setosa\n",
      "7              5.0           3.4     Iris-setosa\n",
      "..             ...           ...             ...\n",
      "145            6.7           3.0  Iris-virginica\n",
      "146            6.3           2.5  Iris-virginica\n",
      "147            6.5           3.0  Iris-virginica\n",
      "148            6.2           3.4  Iris-virginica\n",
      "149            5.9           3.0  Iris-virginica\n",
      "\n",
      "[141 rows x 3 columns]\n"
     ]
    }
   ],
   "source": [
    "test_data,training_data=split(data)\n",
    "print(test_data)\n",
    "print(training_data)"
   ]
  },
  {
   "cell_type": "code",
   "execution_count": 9,
   "id": "406f8d0f",
   "metadata": {},
   "outputs": [
    {
     "data": {
      "image/png": "[encoded data removed]",
      "text/plain": [
       "<Figure size 432x288 with 1 Axes>"
      ]
     },
     "metadata": {
      "needs_background": "light"
     },
     "output_type": "display_data"
    }
   ],
   "source": [
    "sns.scatterplot(data=data,x=\"SepalLengthCm\",y=\"SepalWidthCm\",hue=\"Species\");"
   ]
  },
  {
   "cell_type": "code",
   "execution_count": null,
   "id": "dfe58704",
   "metadata": {},
   "outputs": [],
   "source": [
    "#INFERENCES\n",
    "# the class iris-setosa was able distinguish from the other two as shown in plot\n",
    "# where as the versicolor and virginica points were mixed together.\n",
    "#also setosa class flowers have less sepallength when compared to other two classes\n",
    "#also highest sepal width are belongs to setosa"
   ]
  },
  {
   "cell_type": "code",
   "execution_count": 198,
   "id": "a0fc1e34",
   "metadata": {},
   "outputs": [],
   "source": [
    "def euclidian_distance(test_data,train_data):\n",
    "    distance=[]\n",
    "    for i in test_data.index:\n",
    "        point1=np.array((test_data[\"SepalLengthCm\"][i],test_data[\"SepalWidthCm\"][i]))\n",
    "        #print(\"hi\",point1)\n",
    "        temp=[]\n",
    "        for j in train_data.index:\n",
    "            \n",
    "            point2=np.array((train_data[\"SepalLengthCm\"][j],train_data[\"SepalWidthCm\"][j]))\n",
    "            #print(\"hello\",point2)\n",
    "            temp.append([np.linalg.norm(point1-point2),train_data[\"Species\"][j]])\n",
    "            \n",
    "        distance.append(temp)\n",
    "        \n",
    "    return distance\n",
    "            \n",
    "            "
   ]
  },
  {
   "cell_type": "code",
   "execution_count": 199,
   "id": "8fe989b0",
   "metadata": {
    "scrolled": true
   },
   "outputs": [],
   "source": [
    "#print(euclidian_distance(test_data,training_data))"
   ]
  },
  {
   "cell_type": "code",
   "execution_count": 200,
   "id": "b33874a8",
   "metadata": {},
   "outputs": [],
   "source": [
    "def minkdistances(distances,k,test_data):\n",
    "    temp1=[]\n",
    "    for i in range(len(test_data)):\n",
    "#         x=pd.DataFrame(data=distances[i],columns=[\"distance\",\"class\"]).sort_values(by=\"distance\")[0:k]\n",
    "        lis1=sorted(distances[i],key=lambda x:x[0])\n",
    "        #print(\"hi\",lis1)\n",
    "        x=lis1[0:k]\n",
    "        temp1.append(x)\n",
    "    \n",
    "    return temp1\n",
    "        \n",
    "        \n",
    "        "
   ]
  },
  {
   "cell_type": "code",
   "execution_count": 201,
   "id": "ba020863",
   "metadata": {},
   "outputs": [],
   "source": [
    "distances=euclidian_distance(test_data,training_data)\n",
    "#print(minkdistances(distances,4,test_data))\n",
    "k=int(input(\"enter the k:\"))\n",
    "mindistances=minkdistances(distances,k,test_data)"
   ]
  },
  {
   "cell_type": "code",
   "execution_count": 202,
   "id": "f97c29fe",
   "metadata": {},
   "outputs": [],
   "source": [
    "def category(mindistances,test_data,k):\n",
    "    test_data1=[]\n",
    "    for i in range(len(test_data)):\n",
    "        lis1=mindistances[i]\n",
    "        counter = Counter(sublist[1] for sublist in lis1)\n",
    "        most_common_value, occurrence_count = counter.most_common(1)[0]\n",
    "        test_data1.append(most_common_value)\n",
    "    return test_data1;\n",
    "        \n",
    "        "
   ]
  },
  {
   "cell_type": "code",
   "execution_count": 203,
   "id": "f88209c4",
   "metadata": {},
   "outputs": [],
   "source": [
    "test_data1=category(mindistances,test_data,k)\n",
    "#print(test_data1)"
   ]
  },
  {
   "cell_type": "code",
   "execution_count": 204,
   "id": "dc20a9dd",
   "metadata": {},
   "outputs": [],
   "source": [
    "def accuracy(test_data1,test_data):\n",
    "    count=0\n",
    "    test_data2=[]\n",
    "    column_iterator=test_data[\"Species\"].iteritems()\n",
    "    for index,value in column_iterator:\n",
    "        test_data2.append(value)\n",
    "        \n",
    "    for i in range(len(test_data)):\n",
    "         if(test_data1[i]==test_data2[i]):\n",
    "            count=count+1\n",
    "    acc=count/len(test_data)\n",
    "    acc=acc*100\n",
    "    return acc"
   ]
  },
  {
   "cell_type": "code",
   "execution_count": 206,
   "id": "f67f91a7",
   "metadata": {},
   "outputs": [
    {
     "data": {
      "text/plain": [
       "55.55555555555556"
      ]
     },
     "execution_count": 206,
     "metadata": {},
     "output_type": "execute_result"
    }
   ],
   "source": [
    "accuracy(test_data1,test_data)"
   ]
  },
  {
   "cell_type": "code",
   "execution_count": null,
   "id": "6e6f9b2c",
   "metadata": {},
   "outputs": [],
   "source": [
    "# USING ALL THE FOUR FEATURES  "
   ]
  },
  {
   "cell_type": "code",
   "execution_count": 229,
   "id": "f7724fa2",
   "metadata": {},
   "outputs": [],
   "source": [
    "data1=pd.read_csv(\"iris.csv\")\n",
    "def split(df):\n",
    "    test_data=pd.DataFrame()\n",
    "    d1=df[df['Species']==\"Iris-setosa\"][0:3]\n",
    "    d2=df[df['Species']==\"Iris-versicolor\"][0:3]\n",
    "    d3=df[df['Species']==\"Iris-virginica\"][0:3]\n",
    "    test_data=pd.concat([d1,d2,d3])\n",
    "    training_data=df.loc[list(set(df.index)-set(test_data.index))]\n",
    "    return [test_data,training_data]\n",
    "\n",
    "\n",
    "    \n",
    "   \n",
    "    \n"
   ]
  },
  {
   "cell_type": "code",
   "execution_count": 230,
   "id": "b54f02e8",
   "metadata": {},
   "outputs": [
    {
     "name": "stdout",
     "output_type": "stream",
     "text": [
      "      Id  SepalLengthCm  SepalWidthCm  PetalLengthCm  PetalWidthCm  \\\n",
      "0      1            5.1           3.5            1.4           0.2   \n",
      "1      2            4.9           3.0            1.4           0.2   \n",
      "2      3            4.7           3.2            1.3           0.2   \n",
      "50    51            7.0           3.2            4.7           1.4   \n",
      "51    52            6.4           3.2            4.5           1.5   \n",
      "52    53            6.9           3.1            4.9           1.5   \n",
      "100  101            6.3           3.3            6.0           2.5   \n",
      "101  102            5.8           2.7            5.1           1.9   \n",
      "102  103            7.1           3.0            5.9           2.1   \n",
      "\n",
      "             Species  \n",
      "0        Iris-setosa  \n",
      "1        Iris-setosa  \n",
      "2        Iris-setosa  \n",
      "50   Iris-versicolor  \n",
      "51   Iris-versicolor  \n",
      "52   Iris-versicolor  \n",
      "100   Iris-virginica  \n",
      "101   Iris-virginica  \n",
      "102   Iris-virginica  \n",
      "      Id  SepalLengthCm  SepalWidthCm  PetalLengthCm  PetalWidthCm  \\\n",
      "3      4            4.6           3.1            1.5           0.2   \n",
      "4      5            5.0           3.6            1.4           0.2   \n",
      "5      6            5.4           3.9            1.7           0.4   \n",
      "6      7            4.6           3.4            1.4           0.3   \n",
      "7      8            5.0           3.4            1.5           0.2   \n",
      "..   ...            ...           ...            ...           ...   \n",
      "145  146            6.7           3.0            5.2           2.3   \n",
      "146  147            6.3           2.5            5.0           1.9   \n",
      "147  148            6.5           3.0            5.2           2.0   \n",
      "148  149            6.2           3.4            5.4           2.3   \n",
      "149  150            5.9           3.0            5.1           1.8   \n",
      "\n",
      "            Species  \n",
      "3       Iris-setosa  \n",
      "4       Iris-setosa  \n",
      "5       Iris-setosa  \n",
      "6       Iris-setosa  \n",
      "7       Iris-setosa  \n",
      "..              ...  \n",
      "145  Iris-virginica  \n",
      "146  Iris-virginica  \n",
      "147  Iris-virginica  \n",
      "148  Iris-virginica  \n",
      "149  Iris-virginica  \n",
      "\n",
      "[141 rows x 6 columns]\n"
     ]
    }
   ],
   "source": [
    "test_data,training_data=split(data1)\n",
    "print(test_data)\n",
    "print(training_data)"
   ]
  },
  {
   "cell_type": "code",
   "execution_count": 231,
   "id": "d1f3a0bc",
   "metadata": {},
   "outputs": [],
   "source": [
    "def euclidian_distance(test_data,train_data):\n",
    "    distance=[]\n",
    "    for i in test_data.index:\n",
    "        point1=np.array((test_data[\"SepalLengthCm\"][i],test_data[\"SepalWidthCm\"][i],test_data[\"PetalLengthCm\"][i],test_data[\"PetalWidthCm\"][i]))\n",
    "        #print(\"hi\",point1)\n",
    "        temp=[]\n",
    "        for j in train_data.index:\n",
    "            \n",
    "            point2=np.array((train_data[\"SepalLengthCm\"][j],train_data[\"SepalWidthCm\"][j],train_data[\"PetalLengthCm\"][j],train_data[\"PetalWidthCm\"][j]))\n",
    "            #print(\"hello\",point2)\n",
    "            temp.append([np.linalg.norm(point1-point2),train_data[\"Species\"][j]])\n",
    "            \n",
    "        distance.append(temp)\n",
    "        \n",
    "    return distance"
   ]
  },
  {
   "cell_type": "code",
   "execution_count": 232,
   "id": "7dc946af",
   "metadata": {},
   "outputs": [],
   "source": [
    "#print(euclidian_distance(test_data,training_data))"
   ]
  },
  {
   "cell_type": "code",
   "execution_count": 233,
   "id": "63fb07f9",
   "metadata": {},
   "outputs": [],
   "source": [
    "def minkdistances(distances,k,test_data):\n",
    "    temp1=[]\n",
    "    for i in range(len(test_data)):\n",
    "#         x=pd.DataFrame(data=distances[i],columns=[\"distance\",\"class\"]).sort_values(by=\"distance\")[0:k]\n",
    "        lis1=sorted(distances[i],key=lambda x:x[0])\n",
    "        #print(\"hi\",lis1)\n",
    "        x=lis1[0:k]\n",
    "        temp1.append(x)\n",
    "    \n",
    "    return temp1"
   ]
  },
  {
   "cell_type": "code",
   "execution_count": 234,
   "id": "536c11ad",
   "metadata": {},
   "outputs": [],
   "source": [
    "distances=euclidian_distance(test_data,training_data)\n",
    "#print(minkdistances(distances,4,test_data))\n",
    "k=int(input(\"enter the k:\"))\n",
    "\n",
    "mindistances=minkdistances(distances,k,test_data)"
   ]
  },
  {
   "cell_type": "code",
   "execution_count": 235,
   "id": "76aca004",
   "metadata": {},
   "outputs": [],
   "source": [
    "def category(mindistances,test_data,k):\n",
    "    test_data1=[]\n",
    "    for i in range(len(test_data)):\n",
    "        lis1=mindistances[i]\n",
    "        counter = Counter(sublist[1] for sublist in lis1)\n",
    "        most_common_value, occurrence_count = counter.most_common(1)[0]\n",
    "        test_data1.append(most_common_value)\n",
    "    return test_data1;"
   ]
  },
  {
   "cell_type": "code",
   "execution_count": 236,
   "id": "fb846e93",
   "metadata": {},
   "outputs": [],
   "source": [
    "test_data1=category(mindistances,test_data,k)\n",
    "#print(test_data1)"
   ]
  },
  {
   "cell_type": "code",
   "execution_count": 237,
   "id": "90bc5e2f",
   "metadata": {},
   "outputs": [],
   "source": [
    "def accuracy(test_data1,test_data):\n",
    "    count=0\n",
    "    test_data2=[]\n",
    "    column_iterator=test_data[\"Species\"].iteritems()\n",
    "    for index,value in column_iterator:\n",
    "        test_data2.append(value)\n",
    "        \n",
    "    for i in range(len(test_data)):\n",
    "         if(test_data1[i]==test_data2[i]):\n",
    "            count=count+1\n",
    "    acc=count/len(test_data)\n",
    "    acc=acc*100\n",
    "    return acc"
   ]
  },
  {
   "cell_type": "code",
   "execution_count": 238,
   "id": "73e38eb9",
   "metadata": {},
   "outputs": [
    {
     "data": {
      "text/plain": [
       "100.0"
      ]
     },
     "execution_count": 238,
     "metadata": {},
     "output_type": "execute_result"
    }
   ],
   "source": [
    "accuracy(test_data1,test_data)"
   ]
  },
  {
   "cell_type": "code",
   "execution_count": null,
   "id": "3fa68dae",
   "metadata": {},
   "outputs": [],
   "source": [
    "# using the two fetures sepallength and sepal width i got the accuracy around 56 percent using the four feautres we got\n",
    "# it as 100 percent. The implentation is\n",
    "# 1) First we got the data or split the data that is required for us to analyse that is for the first question \n",
    "# only two features using pandas\n",
    "# 2)then we split the data into test test and data set using indexing pandas and numpy\n",
    "# 3)then we plot the graph using seaborn and got the inferences. seaborn, It divides \n",
    "# the classes into different colours based on the column name specified in the argument \n",
    "# \"hue\" and accepts the input x-axis and y-axis labels.\n",
    "# 4)To build KNN, we compute the Euclidian distance for each data entry in the test data.\n",
    "# For each computed distance, we created a new list and appended the distance and the index,\n",
    "# which could then be used to determine the data entry's class. \n",
    "# Next, we select K minimal distances from the list of distances that have been ordered by distance.\n",
    "# 5)The real class in the original train set is acquired from the obtained sorted distance\n",
    "# list using the indices present in that list, and the class with the greatest number is then determined. \n",
    "# The prediction is deemed accurate if the anticipated class coincides with the test data point's actual class. \n",
    "# If not, it counts as an incorrect prediction.\n",
    "# 6)I determine accuracy by dividing the total number of forecasts by the number of right guesses. \n",
    "# After then, the accuracy is transformed into a percentage. The accuracy for the first half of the question \n",
    "# is 55.56% for any value of k larger than or equal to 3, and for the second part of the question, \n",
    "# where we employ all the characteristics, the accuracy is 100% for any value of k.\n"
   ]
  }
 ],
 "metadata": {
  "kernelspec": {
   "display_name": "Python 3 (ipykernel)",
   "language": "python",
   "name": "python3"
  },
  "language_info": {
   "codemirror_mode": {
    "name": "ipython",
    "version": 3
   },
   "file_extension": ".py",
   "mimetype": "text/x-python",
   "name": "python",
   "nbconvert_exporter": "python",
   "pygments_lexer": "ipython3",
   "version": "3.9.12"
  }
 },
 "nbformat": 4,
 "nbformat_minor": 5
}
