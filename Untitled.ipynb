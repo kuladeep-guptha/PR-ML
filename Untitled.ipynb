{
 "cells": [
  {
   "cell_type": "code",
   "execution_count": 4,
   "id": "785c00b7",
   "metadata": {},
   "outputs": [
    {
     "name": "stderr",
     "output_type": "stream",
     "text": [
      "C:\\Users\\kulad\\AppData\\Local\\Temp\\ipykernel_8148\\1293031214.py:32: UserWarning: No contour levels were found within the data range.\n",
      "  plt.contour(x1, x2, db, levels=[-1, 0, 1], colors='r')  # Adjust the levels\n"
     ]
    },
    {
     "data": {
      "image/png": "[encoded data removed]",
      "text/plain": [
       "<Figure size 432x288 with 1 Axes>"
      ]
     },
     "metadata": {
      "needs_background": "light"
     },
     "output_type": "display_data"
    }
   ],
   "source": [
    "import numpy as np\n",
    "import matplotlib.pyplot as plt\n",
    "\n",
    "# Define the mean vectors and covariance matrices\n",
    "μ1 = np.array([3.0, 6.0])\n",
    "Σ1 = np.array([[4, 0], [0, 0]], dtype=float)  # Covariance matrix for class ω1\n",
    "\n",
    "# Regularize the covariance matrix to make it non-singular\n",
    "Σ1 += np.identity(2) * 1e-6\n",
    "\n",
    "Σ1_inv = np.linalg.inv(Σ1)\n",
    "\n",
    "μ2 = np.array([3.0, -2.0])\n",
    "Σ2 = np.array([[4, -4], [-4, 8]], dtype=float)  # Covariance matrix for class ω2\n",
    "Σ2_inv = np.linalg.inv(Σ2)\n",
    "\n",
    "# Define a function for the decision boundary equation\n",
    "def decision_boundary(x):\n",
    "    delta_mu = μ1 - μ2\n",
    "    return (\n",
    "        0.5 * np.dot(np.dot(x - μ1, Σ1_inv), (x - μ1).T) -\n",
    "        0.5 * np.dot(np.dot(x - μ2, Σ2_inv), (x - μ2).T)\n",
    "    )\n",
    "\n",
    "# Create a grid of points for the contour plot\n",
    "x1, x2 = np.meshgrid(np.linspace(-2, 8, 400), np.linspace(-6, 10, 400))\n",
    "x = np.vstack([x1.flatten(), x2.flatten()]).T\n",
    "db = np.array([decision_boundary(xi) for xi in x])\n",
    "db = db.reshape(x1.shape)\n",
    "\n",
    "# Plot the decision boundary\n",
    "plt.contour(x1, x2, db, levels=[-1, 0, 1], colors='r')  # Adjust the levels\n",
    "plt.scatter([1, 3, 3, 5], [6, 4, 8, 6], label='Class ω1')\n",
    "plt.scatter([3, 1, 3, 5], [0, -2, -4, -2], label='Class ω2')\n",
    "plt.xlabel('x1')\n",
    "plt.ylabel('x2')\n",
    "plt.legend()\n",
    "plt.title('Decision Boundary between ω1 and ω2')\n",
    "plt.grid(True)\n",
    "plt.show()\n"
   ]
  },
  {
   "cell_type": "code",
   "execution_count": null,
   "id": "a2db4282",
   "metadata": {},
   "outputs": [],
   "source": []
  }
 ],
 "metadata": {
  "kernelspec": {
   "display_name": "Python 3 (ipykernel)",
   "language": "python",
   "name": "python3"
  },
  "language_info": {
   "codemirror_mode": {
    "name": "ipython",
    "version": 3
   },
   "file_extension": ".py",
   "mimetype": "text/x-python",
   "name": "python",
   "nbconvert_exporter": "python",
   "pygments_lexer": "ipython3",
   "version": "3.9.12"
  }
 },
 "nbformat": 4,
 "nbformat_minor": 5
}
