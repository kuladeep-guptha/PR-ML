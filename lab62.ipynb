{
 "cells": [
  {
   "cell_type": "code",
   "execution_count": 85,
   "id": "c6064088",
   "metadata": {},
   "outputs": [],
   "source": [
    "import pandas as pd\n",
    "import math\n",
    "import sympy as sp\n",
    "import numpy as np\n",
    "import matplotlib.pyplot as plt\n",
    "from sys import maxsize\n",
    "\n",
    "data=pd.read_csv('face feature vectors.csv')\n",
    "\n",
    "train_data=pd.DataFrame()\n",
    "test_data=pd.DataFrame()\n"
   ]
  },
  {
   "cell_type": "code",
   "execution_count": 86,
   "id": "124944ce",
   "metadata": {},
   "outputs": [],
   "source": [
    "d1=data[0:5]\n",
    "d2=data[400:405]\n",
    "test_data=pd.concat([d1,d2])\n",
    "\n",
    "d3=data[5:400]\n",
    "d4=data[405:800]\n",
    "train_data=pd.concat([d3,d4])"
   ]
  },
  {
   "cell_type": "code",
   "execution_count": 87,
   "id": "fee46900",
   "metadata": {},
   "outputs": [
    {
     "name": "stdout",
     "output_type": "stream",
     "text": [
      "0        male\n",
      "1        male\n",
      "2        male\n",
      "3        male\n",
      "4        male\n",
      "400    female\n",
      "401    female\n",
      "402    female\n",
      "403    female\n",
      "404    female\n",
      "Name: Unnamed: 1, dtype: object\n"
     ]
    }
   ],
   "source": [
    "p1=len(d3)/len(train_data)\n",
    "p2=len(d4)/len(train_data)\n",
    "\n",
    "\n",
    "z=test_data.iloc[:,1]\n",
    "print(z)\n",
    "d=len(train_data.columns)-2\n"
   ]
  },
  {
   "cell_type": "code",
   "execution_count": 88,
   "id": "22fcbb43",
   "metadata": {},
   "outputs": [],
   "source": [
    "mean1=[]\n",
    "for i in range(0,128):\n",
    "    a=str(i)\n",
    "    mean1.append(np.mean(d3[a]))\n",
    "mean1=np.array(mean1)\n",
    "\n",
    "mean2=[]\n",
    "for i in range(128):\n",
    "    a=str(i)\n",
    "    mean2.append(np.mean(d4[a]))\n",
    "mean2=np.array(mean2)\n",
    "\n",
    "d6=pd.DataFrame()\n",
    "d7=pd.DataFrame()\n",
    "\n",
    "d6=d3.iloc[:,2:130]\n",
    "d7=d4.iloc[:,2:130]\n",
    "\n",
    "cov1=d6.cov()\n",
    "cov2=d7.cov()"
   ]
  },
  {
   "cell_type": "code",
   "execution_count": null,
   "id": "168276c2",
   "metadata": {},
   "outputs": [],
   "source": []
  },
  {
   "cell_type": "code",
   "execution_count": 89,
   "id": "f91b976f",
   "metadata": {
    "scrolled": true
   },
   "outputs": [
    {
     "name": "stdout",
     "output_type": "stream",
     "text": [
      "9223372036854775807\n"
     ]
    }
   ],
   "source": [
    "mat=np.linalg.det(cov1)\n",
    "if(mat==0):\n",
    "    mat=maxsize\n",
    "print(mat)"
   ]
  },
  {
   "cell_type": "code",
   "execution_count": 90,
   "id": "df525b5f",
   "metadata": {},
   "outputs": [
    {
     "name": "stdout",
     "output_type": "stream",
     "text": [
      "9223372036854775807\n"
     ]
    }
   ],
   "source": [
    "mat1=np.linalg.det(cov2)\n",
    "if(mat1==0):\n",
    "    mat1=maxsize\n",
    "print(mat1)\n"
   ]
  },
  {
   "cell_type": "code",
   "execution_count": null,
   "id": "8c972f08",
   "metadata": {},
   "outputs": [],
   "source": [
    "\n"
   ]
  },
  {
   "cell_type": "code",
   "execution_count": null,
   "id": "bd992b98",
   "metadata": {},
   "outputs": [],
   "source": []
  },
  {
   "cell_type": "code",
   "execution_count": 91,
   "id": "2eae9560",
   "metadata": {},
   "outputs": [],
   "source": [
    "def discriminant(x,mean,cov2,cov1,p):\n",
    "    a=1/((2*math.pi)**(d/2))\n",
    "    b=1/(np.power(cov2,1/2))\n",
    "    c= (-1/2)*(np.dot(np.dot((x-mean).T,np.linalg.inv(cov1)),(x-mean)))\n",
    "    return a*b*math.exp(c)*p  \n",
    "\n",
    "k=[]\n",
    "\n",
    "for i in range(len(test_data)):\n",
    "    l=[]\n",
    "    x=test_data.iloc[i][0:130]\n",
    "    x=np.array(x)\n",
    "    X=x[2:130]\n",
    "    X=np.array(X)\n",
    "    g1=discriminant(X,mean1,mat,cov1,p1)\n",
    "    l.append(g1)\n",
    "    g2=discriminant(X,mean2,mat1,cov2,p2)\n",
    "    l.append(g2)\n",
    "    y=np.argmax(l)\n",
    "    if(y==0):\n",
    "        k.append([x[0],'male'])\n",
    "    if(y==1):\n",
    "        k.append([x[0],'female'])\n",
    "    \n",
    "   \n",
    "   "
   ]
  },
  {
   "cell_type": "code",
   "execution_count": 95,
   "id": "b68b1020",
   "metadata": {},
   "outputs": [
    {
     "name": "stdout",
     "output_type": "stream",
     "text": [
      "Accuracy is  90.0\n"
     ]
    }
   ],
   "source": [
    "\n",
    "k=pd.DataFrame(k,columns=['Id','class'])\n",
    "k.to_csv('output.csv',index=False)\n",
    "\n",
    "#accuracy\n",
    "count=0\n",
    "count1=[0,0]\n",
    "\n",
    "for i in range(len(test_data)):\n",
    "    if(z.iloc[i]==k.iloc[i]['class']):\n",
    "        if(z.iloc[i]=='male'):\n",
    "            count1[0]+=1\n",
    "        if(z.iloc[i]=='female'):\n",
    "            count1[1]+=1\n",
    "        count=count+1\n",
    "print(\"Accuracy is \",count/len(test_data)*100)\n"
   ]
  },
  {
   "cell_type": "code",
   "execution_count": 93,
   "id": "c105b379",
   "metadata": {},
   "outputs": [],
   "source": [
    "\n",
    "count1.append(count)\n"
   ]
  },
  {
   "cell_type": "code",
   "execution_count": 94,
   "id": "f87fb643",
   "metadata": {},
   "outputs": [
    {
     "data": {
      "image/png": "[encoded data removed]",
      "text/plain": [
       "<Figure size 432x288 with 1 Axes>"
      ]
     },
     "metadata": {
      "needs_background": "light"
     },
     "output_type": "display_data"
    }
   ],
   "source": [
    "dict1={'male':count1[0]/len(d1),'female':count1[1]/len(d2),'overall':count1[2]/len(test_data)}\n",
    "labels = list(dict1.keys())\n",
    "values = list(dict1.values())\n",
    "plt.bar(labels, values, color='blue')\n",
    "plt.xlabel('Classes')\n",
    "plt.ylabel('accuracy')\n",
    "\n",
    "plt.show()"
   ]
  },
  {
   "cell_type": "code",
   "execution_count": null,
   "id": "e16679a5",
   "metadata": {},
   "outputs": [],
   "source": []
  }
 ],
 "metadata": {
  "kernelspec": {
   "display_name": "Python 3 (ipykernel)",
   "language": "python",
   "name": "python3"
  },
  "language_info": {
   "codemirror_mode": {
    "name": "ipython",
    "version": 3
   },
   "file_extension": ".py",
   "mimetype": "text/x-python",
   "name": "python",
   "nbconvert_exporter": "python",
   "pygments_lexer": "ipython3",
   "version": "3.9.12"
  }
 },
 "nbformat": 4,
 "nbformat_minor": 5
}
