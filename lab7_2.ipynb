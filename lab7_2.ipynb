{
 "cells": [
  {
   "cell_type": "code",
   "execution_count": 46,
   "id": "3f7cf71a",
   "metadata": {},
   "outputs": [],
   "source": [
    "import pandas as pd\n",
    "import numpy as np\n",
    "import matplotlib.pyplot as plt"
   ]
  },
  {
   "cell_type": "code",
   "execution_count": 47,
   "id": "f4b142bc",
   "metadata": {},
   "outputs": [],
   "source": [
    "w1 = np.array([[1,-1], [2,-5], [3,-6], [4,-10], [5,-12], [6,-15]])\n",
    "w2 = np.array([[-1,1], [-2,5], [-3,6], [-4,10], [-5,12], [-6,15]])\n",
    "\n",
    "l1=[x[0] for x in w1]\n",
    "l2=[x[1] for x in w1]\n",
    "\n",
    "l3=[x[0] for x in w2]\n",
    "l4=[x[1] for x in w2]\n",
    "\n",
    "mean1=[sum(l1)/len(l1),sum(l2)/len(l2)]\n",
    "mean2=[sum(l3)/len(l3),sum(l4)/len(l4)]\n",
    "mean1=np.array(mean1)\n",
    "mean2=np.array(mean2)"
   ]
  },
  {
   "cell_type": "code",
   "execution_count": 48,
   "id": "b7376d5d",
   "metadata": {},
   "outputs": [],
   "source": [
    "def covariance(X,mean_1):\n",
    "    X=X-mean_1\n",
    "    return (np.dot(X.T,X))/(X.shape[0]-1)"
   ]
  },
  {
   "cell_type": "code",
   "execution_count": 49,
   "id": "b2e66a2b",
   "metadata": {},
   "outputs": [],
   "source": [
    "def find_case(w1, w2,mean1,mean2):\n",
    "    cov_w1, cov_w2 = covariance(w1,mean1), covariance(w2,mean2)\n",
    "    if (cov_w1 == cov_w2).all():\n",
    "        identity = np.identity(w1.shape[1])\n",
    "        if ((cov_w1[0, 0] * identity) == cov_w1).all():\n",
    "            return 1\n",
    "        else:\n",
    "            return 2\n",
    "    else:\n",
    "        return 3"
   ]
  },
  {
   "cell_type": "code",
   "execution_count": null,
   "id": "e86b7a3f",
   "metadata": {},
   "outputs": [],
   "source": []
  },
  {
   "cell_type": "code",
   "execution_count": 50,
   "id": "8e320a70",
   "metadata": {},
   "outputs": [],
   "source": [
    "def discriminant_function(X,mean_1,p,case):\n",
    "    cov=covariance(X,mean_1)\n",
    "    inverse=np.linalg.inv(cov)\n",
    "    det_matrix=np.linalg.det(cov)\n",
    "    if case==1:\n",
    "        sigma=cov[0,0]\n",
    "        A=np.zeros_like(inverse)\n",
    "        B=mean_1.T/sigma\n",
    "        C=(-0.5)*np.dot(mean_1.T,mean_1)/sigma+np.log(p)\n",
    "    elif case==2:\n",
    "        A=np.zeros_like(inverse)\n",
    "        B=np.dot(inverse,mean_1)\n",
    "        C=(-0.5)*np.dot(np.dot(mean_1.T,inverse),mean_1)+np.log(p)\n",
    "    elif case==3:\n",
    "        A=-0.5*inverse\n",
    "        B=np.dot(inverse,mean_1)\n",
    "        C=(-0.5)*np.dot(np.dot(mean_1.T,inverse),mean_1)\n",
    "        C=C-(0.5)*np.log(det_matrix)+np.log(p)\n",
    "    return lambda x:np.dot(np.dot(x.T,A),x)+np.dot(B.T,x)+C"
   ]
  },
  {
   "cell_type": "code",
   "execution_count": 51,
   "id": "9ecb02bd",
   "metadata": {},
   "outputs": [],
   "source": [
    "def discriminant_plot(g1, g2):\n",
    "    x = np.linspace(-20,20,100)\n",
    "    y = np.linspace(-20,20,100)\n",
    "    X,Y = np.meshgrid(x,y)\n",
    "    Z = np.zeros(X.shape)\n",
    "    for i in range(X.shape[0]):\n",
    "        for j in range(X.shape[1]):\n",
    "            Z[i,j] = g1(np.array([X[i,j],Y[i,j]])) - g2(np.array([X[i,j],Y[i,j]]))\n",
    "    plt.contour(X, Y, Z, levels=[0])\n",
    "    plt.axis([-8, 8, -17, 17])"
   ]
  },
  {
   "cell_type": "code",
   "execution_count": 52,
   "id": "0d24fd52",
   "metadata": {},
   "outputs": [],
   "source": [
    "case=find_case(w1,w2,mean1,mean2)\n",
    "g1=discriminant_function(w1,mean1,0.5,case)\n",
    "g2=discriminant_function(w2,mean2,0.5,case)\n"
   ]
  },
  {
   "cell_type": "code",
   "execution_count": 53,
   "id": "7a0cd6a2",
   "metadata": {},
   "outputs": [
    {
     "data": {
      "image/png": "[encoded data removed]",
      "text/plain": [
       "<Figure size 432x288 with 1 Axes>"
      ]
     },
     "metadata": {
      "needs_background": "light"
     },
     "output_type": "display_data"
    }
   ],
   "source": [
    "discriminant_plot(g1,g2)\n",
    "plt.scatter(l1,l2,color='blue')\n",
    "plt.scatter(l3,l4,color='black')\n",
    "plt.show()\n"
   ]
  },
  {
   "cell_type": "code",
   "execution_count": null,
   "id": "b253037e",
   "metadata": {},
   "outputs": [],
   "source": []
  },
  {
   "cell_type": "code",
   "execution_count": 54,
   "id": "5f057dd2",
   "metadata": {},
   "outputs": [
    {
     "data": {
      "image/png": "[encoded data removed]",
      "text/plain": [
       "<Figure size 432x288 with 1 Axes>"
      ]
     },
     "metadata": {
      "needs_background": "light"
     },
     "output_type": "display_data"
    }
   ],
   "source": [
    "import pandas as pd\n",
    "import numpy as np\n",
    "import matplotlib.pyplot as plt\n",
    "\n",
    "w1 = np.array([[1,-1], [2,-5], [3,-6], [4,-10], [5,-12], [6,-15]])\n",
    "w2 = np.array([[-1,1], [-2,5], [-3,6], [-4,10], [-5,12], [-6,15]])\n",
    "\n",
    "l1=[x[0] for x in w1]\n",
    "l2=[x[1] for x in w1]\n",
    "\n",
    "l3=[x[0] for x in w2]\n",
    "l4=[x[1] for x in w2]\n",
    "\n",
    "mean1=[sum(l1)/len(l1),sum(l2)/len(l2)]\n",
    "mean2=[sum(l3)/len(l3),sum(l4)/len(l4)]\n",
    "mean1=np.array(mean1)\n",
    "mean2=np.array(mean2)\n",
    "\n",
    "\n",
    "def covariance(X,mean_1):\n",
    "    X=X-mean_1\n",
    "    return (np.dot(X.T,X))/(X.shape[0]-1)\n",
    "\n",
    "def find_case(w1, w2,mean1,mean2):\n",
    "    cov_w1, cov_w2 = covariance(w1,mean1), covariance(w2,mean2)\n",
    "    if (cov_w1 == cov_w2).all():\n",
    "        identity = np.identity(w1.shape[1])\n",
    "        if ((cov_w1[0, 0] * identity) == cov_w1).all():\n",
    "            return 1\n",
    "        else:\n",
    "            return 2\n",
    "    else:\n",
    "        return 3\n",
    "\n",
    "\n",
    "def discriminant_function(X,mean_1,p,case):\n",
    "    cov=covariance(X,mean_1)\n",
    "    inverse=np.linalg.inv(cov)\n",
    "    det_matrix=np.linalg.det(cov)\n",
    "    if case==1:\n",
    "        sigma=cov[0,0]\n",
    "        A=np.zeros_like(inverse)\n",
    "        B=mean_1.T/sigma\n",
    "        C=(-0.5)*np.dot(mean_1.T,mean_1)/sigma+np.log(p)\n",
    "    elif case==2:\n",
    "        A=np.zeros_like(inverse)\n",
    "        B=np.dot(inverse,mean_1)\n",
    "        C=(-0.5)*np.dot(np.dot(mean_1.T,inverse),mean_1)+np.log(p)\n",
    "    elif case==3:\n",
    "        A=-0.5*inverse\n",
    "        B=np.dot(inverse,mean_1)\n",
    "        C=(-0.5)*np.dot(np.dot(mean_1.T,inverse),mean_1)\n",
    "        C=C-(0.5)*np.log(det_matrix)+np.log(p)\n",
    "    return lambda x:np.dot(np.dot(x.T,A),x)+np.dot(B.T,x)+C\n",
    "\n",
    "def discriminant_plot(g1, g2):\n",
    "    x = np.linspace(-20,20,100)\n",
    "    y = np.linspace(-20,20,100)\n",
    "    X,Y = np.meshgrid(x,y)\n",
    "    Z = np.zeros(X.shape)\n",
    "    for i in range(X.shape[0]):\n",
    "        for j in range(X.shape[1]):\n",
    "            Z[i,j] = g1(np.array([X[i,j],Y[i,j]])) - g2(np.array([X[i,j],Y[i,j]]))\n",
    "    plt.contour(X, Y, Z, levels=[0])\n",
    "    plt.axis([-8, 8, -17, 17])\n",
    "\n",
    "case=find_case(w1,w2,mean1,mean2)\n",
    "g1=discriminant_function(w1,mean1,0.5,case)\n",
    "g2=discriminant_function(w2,mean2,0.5,case)\n",
    "\n",
    "discriminant_plot(g1,g2)\n",
    "plt.scatter(l1,l2,color='blue')\n",
    "plt.scatter(l3,l4,color='black')\n",
    "plt.show()"
   ]
  }
 ],
 "metadata": {
  "kernelspec": {
   "display_name": "Python 3 (ipykernel)",
   "language": "python",
   "name": "python3"
  },
  "language_info": {
   "codemirror_mode": {
    "name": "ipython",
    "version": 3
   },
   "file_extension": ".py",
   "mimetype": "text/x-python",
   "name": "python",
   "nbconvert_exporter": "python",
   "pygments_lexer": "ipython3",
   "version": "3.9.12"
  }
 },
 "nbformat": 4,
 "nbformat_minor": 5
}
