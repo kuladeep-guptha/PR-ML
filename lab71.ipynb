{
 "cells": [
  {
   "cell_type": "code",
   "execution_count": 63,
   "id": "d6eb7a07",
   "metadata": {},
   "outputs": [
    {
     "name": "stdout",
     "output_type": "stream",
     "text": [
      "[[2.66666667 0.        ]\n",
      " [0.         2.66666667]]\n",
      "[[2.66666667 0.        ]\n",
      " [0.         2.66666667]]\n"
     ]
    }
   ],
   "source": [
    "# Find and plot the decision boundary between class ω1 and ω2. Assume P(ω1) = P(ω2).\n",
    "\n",
    "import pandas as pd\n",
    "import numpy as np\n",
    "import matplotlib.pyplot as plt\n",
    "\n",
    "w1 = [(1,6),(3,4),(3,8),(5,6)]\n",
    "w2 = [(3,0),(1,-2),(3,-4),(5,-2)]\n",
    "\n",
    "l1=[x[0] for x in w1]\n",
    "l2=[x[1] for x in w1]\n",
    "\n",
    "l3=[x[0] for x in w2]\n",
    "l4=[x[1] for x in w2]\n",
    "\n",
    "mean1=[sum(l1)/len(l1),sum(l2)/len(l2)]\n",
    "mean2=[sum(l3)/len(l3),sum(l4)/len(l4)]\n",
    "\n",
    "# mat1=np.stack((l1, l2), axis = 0)\n",
    "# mat2=np.stack((l3, l4), axis = 0)\n",
    "cov1=np.cov(l1,l2)\n",
    "cov2=np.cov(l3,l4)\n",
    "\n",
    "print(cov1)\n",
    "print(cov2)\n",
    "\n",
    "\n",
    "\n",
    "\n",
    "\n",
    "\n",
    "\n",
    "\n",
    "\n",
    "\n",
    "\n",
    "\n",
    "\n",
    "\n",
    "\n"
   ]
  },
  {
   "cell_type": "code",
   "execution_count": 64,
   "id": "c277e843",
   "metadata": {},
   "outputs": [
    {
     "name": "stdout",
     "output_type": "stream",
     "text": [
      "-0.1875\n",
      "[[45.]]\n",
      "[[-8.4375]]\n"
     ]
    }
   ],
   "source": [
    "mean1=np.array(mean1)\n",
    "mean2=np.array(mean2)\n",
    "mean1=mean1.reshape(-1,1)\n",
    "mean2=mean2.reshape(-1,1)\n",
    "\n",
    "\n",
    "a=1/(cov1[0][0])\n",
    "w1=a*mean1\n",
    "b=-1/(2*(cov1[0][0]))\n",
    "c=np.dot(mean1.T,mean1)\n",
    "w10=b*c\n",
    "print(b)\n",
    "print(c)\n",
    "print(w10)"
   ]
  },
  {
   "cell_type": "code",
   "execution_count": 65,
   "id": "86586b6e",
   "metadata": {},
   "outputs": [
    {
     "name": "stdout",
     "output_type": "stream",
     "text": [
      "[[3.]\n",
      " [6.]]\n",
      "0.375\n",
      "[[1.125]\n",
      " [2.25 ]]\n",
      "-8.4375\n",
      "[[ 3.]\n",
      " [-2.]]\n"
     ]
    }
   ],
   "source": [
    "print(mean1)\n",
    "print(a)\n",
    "print(w1)\n",
    "print(w10[0][0])\n",
    "print(mean2)"
   ]
  },
  {
   "cell_type": "code",
   "execution_count": 66,
   "id": "6e4a6d6a",
   "metadata": {},
   "outputs": [
    {
     "name": "stdout",
     "output_type": "stream",
     "text": [
      "{'x1': 3.0, 'x2': 6.0}\n",
      "[[-17.33333333]]\n"
     ]
    }
   ],
   "source": [
    "dict1={'x1':0.0,'x2':0.0}\n",
    "#a*name1\n",
    "dict1['x1']=mean1[0][0]\n",
    "dict1['x2']=mean1[1][0]\n",
    "print(dict1)\n",
    "print(w20)"
   ]
  },
  {
   "cell_type": "code",
   "execution_count": 71,
   "id": "614ca34e",
   "metadata": {},
   "outputs": [
    {
     "name": "stdout",
     "output_type": "stream",
     "text": [
      "{'x1': 3.0, 'x2': -2.0}\n",
      "[[ 1.125]\n",
      " [-0.75 ]]\n"
     ]
    }
   ],
   "source": [
    "a=1/(cov2[0][0])\n",
    "w2=a*mean2\n",
    "b=-1/(2*(cov2[0][0]))\n",
    "c=np.dot(mean2.T,mean2)\n",
    "w20=b*c\n",
    "\n",
    "dict2={'x1':0,'x2':0}\n",
    "\n",
    "dict2['x1']=mean2[0][0]\n",
    "dict2['x2']=mean2[1][0]\n",
    "\n",
    "print(dict2)\n",
    "print(w2)"
   ]
  },
  {
   "cell_type": "code",
   "execution_count": 68,
   "id": "30f7eaa8",
   "metadata": {},
   "outputs": [],
   "source": [
    "dict3={'x1':0,'x2':0,'c':0}\n",
    "\n",
    "dict3['x1']=dict1['x1']-dict2['x1']\n",
    "dict3['x2']=dict1['x2']-dict2['x2']\n",
    "dict3['c']=w10[0][0]-w20[0][0]"
   ]
  },
  {
   "cell_type": "code",
   "execution_count": 69,
   "id": "5485c075",
   "metadata": {},
   "outputs": [
    {
     "name": "stdout",
     "output_type": "stream",
     "text": [
      "{'x1': 0.0, 'x2': 8.0, 'c': -6.0}\n"
     ]
    }
   ],
   "source": [
    "print(dict3)"
   ]
  },
  {
   "cell_type": "code",
   "execution_count": 70,
   "id": "dfeff942",
   "metadata": {},
   "outputs": [
    {
     "data": {
      "image/png": "[encoded data removed]",
      "text/plain": [
       "<Figure size 576x432 with 1 Axes>"
      ]
     },
     "metadata": {
      "needs_background": "light"
     },
     "output_type": "display_data"
    }
   ],
   "source": [
    "import matplotlib.pyplot as plt\n",
    "\n",
    "y_constant = dict3['c']/dict3['x2']\n",
    "y_constant=-y_constant\n",
    "\n",
    "plt.figure(figsize=(8, 6))\n",
    "plt.axhline(y=y_constant, color='blue')\n",
    "plt.scatter(l1, l2, color='red', marker='o')\n",
    "plt.scatter(l3, l4, color='green', marker='o')\n",
    "plt.xlabel('x')\n",
    "plt.ylabel('y')\n",
    "\n",
    "\n",
    "plt.show()\n"
   ]
  },
  {
   "cell_type": "code",
   "execution_count": null,
   "id": "d4832a6e",
   "metadata": {},
   "outputs": [],
   "source": []
  }
 ],
 "metadata": {
  "kernelspec": {
   "display_name": "Python 3 (ipykernel)",
   "language": "python",
   "name": "python3"
  },
  "language_info": {
   "codemirror_mode": {
    "name": "ipython",
    "version": 3
   },
   "file_extension": ".py",
   "mimetype": "text/x-python",
   "name": "python",
   "nbconvert_exporter": "python",
   "pygments_lexer": "ipython3",
   "version": "3.9.12"
  }
 },
 "nbformat": 4,
 "nbformat_minor": 5
}
