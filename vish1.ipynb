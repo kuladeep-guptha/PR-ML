{
 "cells": [
  {
   "cell_type": "code",
   "execution_count": 5,
   "id": "b24daa6e",
   "metadata": {},
   "outputs": [
    {
     "name": "stderr",
     "output_type": "stream",
     "text": [
      "C:\\Users\\kulad\\AppData\\Local\\Temp\\ipykernel_31596\\2975883903.py:36: RuntimeWarning: divide by zero encountered in double_scalars\n",
      "  b = 1 / (np.power(np.linalg.det(cov), 1 / 2))\n"
     ]
    },
    {
     "ename": "ValueError",
     "evalue": "Can only compare identically-labeled Series objects",
     "output_type": "error",
     "traceback": [
      "\u001b[1;31m---------------------------------------------------------------------------\u001b[0m",
      "\u001b[1;31mValueError\u001b[0m                                Traceback (most recent call last)",
      "Input \u001b[1;32mIn [5]\u001b[0m, in \u001b[0;36m<cell line: 56>\u001b[1;34m()\u001b[0m\n\u001b[0;32m     53\u001b[0m results_df\u001b[38;5;241m.\u001b[39mto_csv(\u001b[38;5;124m'\u001b[39m\u001b[38;5;124moutput.csv\u001b[39m\u001b[38;5;124m'\u001b[39m, index\u001b[38;5;241m=\u001b[39m\u001b[38;5;28;01mFalse\u001b[39;00m)\n\u001b[0;32m     55\u001b[0m \u001b[38;5;66;03m# Calculate accuracy\u001b[39;00m\n\u001b[1;32m---> 56\u001b[0m correct_predictions \u001b[38;5;241m=\u001b[39m (\u001b[43mresults_df\u001b[49m\u001b[43m[\u001b[49m\u001b[38;5;124;43m'\u001b[39;49m\u001b[38;5;124;43mclass\u001b[39;49m\u001b[38;5;124;43m'\u001b[39;49m\u001b[43m]\u001b[49m\u001b[43m \u001b[49m\u001b[38;5;241;43m==\u001b[39;49m\u001b[43m \u001b[49m\u001b[43mtest_data\u001b[49m\u001b[38;5;241;43m.\u001b[39;49m\u001b[43miloc\u001b[49m\u001b[43m[\u001b[49m\u001b[43m:\u001b[49m\u001b[43m,\u001b[49m\u001b[38;5;241;43m1\u001b[39;49m\u001b[43m]\u001b[49m)\u001b[38;5;241m.\u001b[39msum()\n\u001b[0;32m     57\u001b[0m accuracy \u001b[38;5;241m=\u001b[39m correct_predictions \u001b[38;5;241m/\u001b[39m \u001b[38;5;28mlen\u001b[39m(test_data) \u001b[38;5;241m*\u001b[39m \u001b[38;5;241m100\u001b[39m\n\u001b[0;32m     58\u001b[0m \u001b[38;5;28mprint\u001b[39m(\u001b[38;5;124m\"\u001b[39m\u001b[38;5;124mAccuracy is\u001b[39m\u001b[38;5;124m\"\u001b[39m, accuracy)\n",
      "File \u001b[1;32m~\\anaconda3\\lib\\site-packages\\pandas\\core\\ops\\common.py:70\u001b[0m, in \u001b[0;36m_unpack_zerodim_and_defer.<locals>.new_method\u001b[1;34m(self, other)\u001b[0m\n\u001b[0;32m     66\u001b[0m             \u001b[38;5;28;01mreturn\u001b[39;00m \u001b[38;5;28mNotImplemented\u001b[39m\n\u001b[0;32m     68\u001b[0m other \u001b[38;5;241m=\u001b[39m item_from_zerodim(other)\n\u001b[1;32m---> 70\u001b[0m \u001b[38;5;28;01mreturn\u001b[39;00m \u001b[43mmethod\u001b[49m\u001b[43m(\u001b[49m\u001b[38;5;28;43mself\u001b[39;49m\u001b[43m,\u001b[49m\u001b[43m \u001b[49m\u001b[43mother\u001b[49m\u001b[43m)\u001b[49m\n",
      "File \u001b[1;32m~\\anaconda3\\lib\\site-packages\\pandas\\core\\arraylike.py:40\u001b[0m, in \u001b[0;36mOpsMixin.__eq__\u001b[1;34m(self, other)\u001b[0m\n\u001b[0;32m     38\u001b[0m \u001b[38;5;129m@unpack_zerodim_and_defer\u001b[39m(\u001b[38;5;124m\"\u001b[39m\u001b[38;5;124m__eq__\u001b[39m\u001b[38;5;124m\"\u001b[39m)\n\u001b[0;32m     39\u001b[0m \u001b[38;5;28;01mdef\u001b[39;00m \u001b[38;5;21m__eq__\u001b[39m(\u001b[38;5;28mself\u001b[39m, other):\n\u001b[1;32m---> 40\u001b[0m     \u001b[38;5;28;01mreturn\u001b[39;00m \u001b[38;5;28;43mself\u001b[39;49m\u001b[38;5;241;43m.\u001b[39;49m\u001b[43m_cmp_method\u001b[49m\u001b[43m(\u001b[49m\u001b[43mother\u001b[49m\u001b[43m,\u001b[49m\u001b[43m \u001b[49m\u001b[43moperator\u001b[49m\u001b[38;5;241;43m.\u001b[39;49m\u001b[43meq\u001b[49m\u001b[43m)\u001b[49m\n",
      "File \u001b[1;32m~\\anaconda3\\lib\\site-packages\\pandas\\core\\series.py:5617\u001b[0m, in \u001b[0;36mSeries._cmp_method\u001b[1;34m(self, other, op)\u001b[0m\n\u001b[0;32m   5614\u001b[0m res_name \u001b[38;5;241m=\u001b[39m ops\u001b[38;5;241m.\u001b[39mget_op_result_name(\u001b[38;5;28mself\u001b[39m, other)\n\u001b[0;32m   5616\u001b[0m \u001b[38;5;28;01mif\u001b[39;00m \u001b[38;5;28misinstance\u001b[39m(other, Series) \u001b[38;5;129;01mand\u001b[39;00m \u001b[38;5;129;01mnot\u001b[39;00m \u001b[38;5;28mself\u001b[39m\u001b[38;5;241m.\u001b[39m_indexed_same(other):\n\u001b[1;32m-> 5617\u001b[0m     \u001b[38;5;28;01mraise\u001b[39;00m \u001b[38;5;167;01mValueError\u001b[39;00m(\u001b[38;5;124m\"\u001b[39m\u001b[38;5;124mCan only compare identically-labeled Series objects\u001b[39m\u001b[38;5;124m\"\u001b[39m)\n\u001b[0;32m   5619\u001b[0m lvalues \u001b[38;5;241m=\u001b[39m \u001b[38;5;28mself\u001b[39m\u001b[38;5;241m.\u001b[39m_values\n\u001b[0;32m   5620\u001b[0m rvalues \u001b[38;5;241m=\u001b[39m extract_array(other, extract_numpy\u001b[38;5;241m=\u001b[39m\u001b[38;5;28;01mTrue\u001b[39;00m, extract_range\u001b[38;5;241m=\u001b[39m\u001b[38;5;28;01mTrue\u001b[39;00m)\n",
      "\u001b[1;31mValueError\u001b[0m: Can only compare identically-labeled Series objects"
     ]
    }
   ],
   "source": [
    "import pandas as pd\n",
    "import numpy as np\n",
    "import matplotlib.pyplot as plt\n",
    "import math\n",
    "from sys import maxsize\n",
    "\n",
    "# Read the data from 'face feature vectors.csv'\n",
    "data = pd.read_csv('face feature vectors.csv')\n",
    "\n",
    "# Split the data into train and test sets\n",
    "train_data = pd.concat([data.iloc[5:400], data.iloc[405:800]])\n",
    "test_data = pd.concat([data.iloc[0:5], data.iloc[400:405]])\n",
    "\n",
    "# Calculate class probabilities\n",
    "p1 = len(train_data.iloc[5:400]) / len(train_data)\n",
    "p2 = len(train_data.iloc[405:800]) / len(train_data)\n",
    "\n",
    "# Calculate the dimensions\n",
    "d = len(train_data.columns) - 2\n",
    "\n",
    "# Calculate the mean vectors\n",
    "mean1 = np.mean(train_data.iloc[5:400, 2:130], axis=0).values\n",
    "mean2 = np.mean(train_data.iloc[405:800, 2:130], axis=0).values\n",
    "\n",
    "# Calculate the covariance matrices\n",
    "cov1 = train_data.iloc[5:400, 2:130].cov().values\n",
    "cov2 = train_data.iloc[405:800, 2:130].cov().values\n",
    "\n",
    "# Avoid singular matrices\n",
    "mat = maxsize if np.linalg.det(cov1) == 0 else np.linalg.det(cov1)\n",
    "mat1 = maxsize if np.linalg.det(cov2) == 0 else np.linalg.det(cov2)\n",
    "\n",
    "# Define the probability function\n",
    "def prob(x, mean, cov, p):\n",
    "    a = 1 / ((2 * math.pi) ** (d / 2))\n",
    "    b = 1 / (np.power(np.linalg.det(cov), 1 / 2))\n",
    "    c = (-1 / 2) * (np.dot(np.dot((x - mean).T, np.linalg.inv(cov)), (x - mean)))\n",
    "    return a * b * math.exp(c) * p\n",
    "\n",
    "# Classify the test data\n",
    "results = []\n",
    "for i in range(len(test_data)):\n",
    "    x = test_data.iloc[i, 2:130].values\n",
    "    g1 = prob(x, mean1, cov1, p1)\n",
    "    g2 = prob(x, mean2, cov2, p2)\n",
    "    if g1 > g2:\n",
    "        results.append([test_data.iloc[i, 0], 'male'])\n",
    "    else:\n",
    "        results.append([test_data.iloc[i, 0], 'female'])\n",
    "\n",
    "# Create a DataFrame for the results and save to 'output.csv'\n",
    "results_df = pd.DataFrame(results, columns=['Id', 'class'])\n",
    "results_df.to_csv('output.csv', index=False)\n",
    "\n",
    "# Calculate accuracy\n",
    "correct_predictions = (results_df['class'] == test_data.iloc[:,1]).sum()\n",
    "accuracy = correct_predictions / len(test_data) * 100\n",
    "print(\"Accuracy is\", accuracy)\n",
    "\n",
    "# Calculate and plot class-wise accuracy\n",
    "class_counts = test_data.iloc[:,1].value_counts()\n",
    "class_accuracy = {}\n",
    "for cls in class_counts.index:\n",
    "    correct_class_predictions = ((results_df['class'] == cls) & (test_data.iloc[:,1] == cls)).sum()\n",
    "    class_accuracy[cls] = correct_class_predictions / class_counts[cls]\n",
    "\n",
    "class_accuracy['overall'] = accuracy\n",
    "\n",
    "print(accuracy)\n",
    "\n"
   ]
  },
  {
   "cell_type": "code",
   "execution_count": null,
   "id": "fcd69c5d",
   "metadata": {},
   "outputs": [],
   "source": []
  }
 ],
 "metadata": {
  "kernelspec": {
   "display_name": "Python 3 (ipykernel)",
   "language": "python",
   "name": "python3"
  },
  "language_info": {
   "codemirror_mode": {
    "name": "ipython",
    "version": 3
   },
   "file_extension": ".py",
   "mimetype": "text/x-python",
   "name": "python",
   "nbconvert_exporter": "python",
   "pygments_lexer": "ipython3",
   "version": "3.9.12"
  }
 },
 "nbformat": 4,
 "nbformat_minor": 5
}
